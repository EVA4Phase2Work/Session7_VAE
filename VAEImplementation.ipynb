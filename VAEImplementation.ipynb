{
  "nbformat": 4,
  "nbformat_minor": 0,
  "metadata": {
    "colab": {
      "name": "VAEImplementation.ipynb",
      "provenance": []
    },
    "kernelspec": {
      "name": "python3",
      "display_name": "Python 3"
    },
    "accelerator": "GPU"
  },
  "cells": [
    {
      "cell_type": "markdown",
      "metadata": {
        "id": "ImA4l80zWPOV"
      },
      "source": [
        "## Import Torch Libraries"
      ]
    },
    {
      "cell_type": "code",
      "metadata": {
        "id": "KaBiU_mmKpPx"
      },
      "source": [
        "import os\n",
        "import torch\n",
        "import torch.utils.data\n",
        "from torch import nn, optim\n",
        "from torch.autograd import Variable\n",
        "from torch.nn import functional as F\n",
        "from torchvision import datasets, transforms\n",
        "from torchvision.utils import save_image\n"
      ],
      "execution_count": 2,
      "outputs": []
    },
    {
      "cell_type": "markdown",
      "metadata": {
        "id": "pbOYxgh1WaMs"
      },
      "source": [
        "### Load the Car DataSet"
      ]
    },
    {
      "cell_type": "code",
      "metadata": {
        "id": "ZuIfDQBXStje",
        "outputId": "8fc5b47e-704a-4f8d-838f-a192383207d3",
        "colab": {
          "base_uri": "https://localhost:8080/",
          "height": 35
        }
      },
      "source": [
        "from google.colab import drive\n",
        "drive.mount('/content/drive')"
      ],
      "execution_count": 3,
      "outputs": [
        {
          "output_type": "stream",
          "text": [
            "Mounted at /content/drive\n"
          ],
          "name": "stdout"
        }
      ]
    },
    {
      "cell_type": "code",
      "metadata": {
        "id": "PxVjjeQfS1yM",
        "outputId": "3be8814b-4d61-44e3-d938-9f29997f0e84",
        "colab": {
          "base_uri": "https://localhost:8080/",
          "height": 35
        }
      },
      "source": [
        "!ls '/content/drive'"
      ],
      "execution_count": 4,
      "outputs": [
        {
          "output_type": "stream",
          "text": [
            "'My Drive'\n"
          ],
          "name": "stdout"
        }
      ]
    },
    {
      "cell_type": "code",
      "metadata": {
        "id": "35-7HIICTI8X"
      },
      "source": [
        "!cp '/content/drive/My Drive/EVA4Phase2/eva4_phase2_datasets/final_car.zip' ."
      ],
      "execution_count": 5,
      "outputs": []
    },
    {
      "cell_type": "code",
      "metadata": {
        "id": "Hk9LMbMATOsR"
      },
      "source": [
        "!unzip -qq final_car.zip"
      ],
      "execution_count": 6,
      "outputs": []
    },
    {
      "cell_type": "code",
      "metadata": {
        "id": "Xtg0CKx1TSvo"
      },
      "source": [
        "IMAGE_DIM = (128, 128, 3)"
      ],
      "execution_count": 7,
      "outputs": []
    },
    {
      "cell_type": "markdown",
      "metadata": {
        "id": "B0W6Ubm1WjPL"
      },
      "source": [
        "### Do Tranformation"
      ]
    },
    {
      "cell_type": "code",
      "metadata": {
        "id": "yj-6JDQnTXD_"
      },
      "source": [
        "transform = transforms.Compose([transforms.Resize((IMAGE_DIM[0],IMAGE_DIM[1])),\n",
        "                                transforms.ToTensor(),\n",
        "                                transforms.Normalize(mean=(0.5, 0.5, 0.5),\n",
        "                                std=(0.5, 0.5, 0.5))\n",
        "                               ]\n",
        ")"
      ],
      "execution_count": 12,
      "outputs": []
    },
    {
      "cell_type": "code",
      "metadata": {
        "id": "-LtZ8YguTa20"
      },
      "source": [
        "import glob\n",
        "from PIL import Image\n",
        "class CARS():\n",
        "    '''\n",
        "    CARS Dataset\n",
        "    You should download this dataset from below url.\n",
        "    url: https://ai.stanford.edu/~jkrause/cars/car_dataset.html\n",
        "    '''\n",
        "    def __init__(self, data_path, transform=None):\n",
        "        '''\n",
        "        Args:\n",
        "            data_path (str): path to dataset\n",
        "        '''\n",
        "        self.data_path = data_path\n",
        "        self.transform = transform\n",
        "        self.fpaths = sorted(glob.glob(os.path.join(data_path, '*.jpg')))\n",
        "        #gray_lst = [266, 1085, 2176, 3048, 3439, 3469, 3539, 4577, 4848, 5177, 5502, 5713, 6947, 7383, 7693, 7774, 8137, 8144]\n",
        "        #for num in gray_lst:\n",
        "        #    self.fpaths.remove(os.path.join(data_path, '{:05d}.jpg'.format(num)))\n",
        "        \n",
        "    def __getitem__(self, idx):\n",
        "        img = self.transform(Image.open(self.fpaths[idx]))\n",
        "        return img\n",
        "\n",
        "    def __len__(self):\n",
        "        return len(self.fpaths)"
      ],
      "execution_count": 18,
      "outputs": []
    },
    {
      "cell_type": "code",
      "metadata": {
        "id": "ztREin6SVBju"
      },
      "source": [
        "train_dataset = CARS(data_path='final_car/train', transform=transform)"
      ],
      "execution_count": 19,
      "outputs": []
    },
    {
      "cell_type": "code",
      "metadata": {
        "id": "rCcpVTdQVC-Z"
      },
      "source": [
        "test_dataset = CARS(data_path='final_car/test', transform=transform)"
      ],
      "execution_count": 20,
      "outputs": []
    },
    {
      "cell_type": "markdown",
      "metadata": {
        "id": "06SjCdy8WoyF"
      },
      "source": [
        "### Train and Test Loader"
      ]
    },
    {
      "cell_type": "code",
      "metadata": {
        "id": "nWvGOiZIVHVv"
      },
      "source": [
        "train_loader = torch.utils.data.DataLoader(dataset=train_dataset, batch_size=32, shuffle=True, drop_last=True)\n",
        "train_dl = torch.utils.data.DataLoader(dataset=train_dataset, batch_size=32, shuffle=True, drop_last=True)"
      ],
      "execution_count": 23,
      "outputs": []
    },
    {
      "cell_type": "code",
      "metadata": {
        "id": "NZ4ldircV_Tq",
        "outputId": "78def8a8-fa5d-4133-f7e2-7504130c3c91",
        "colab": {
          "base_uri": "https://localhost:8080/",
          "height": 35
        }
      },
      "source": [
        "sample= next(iter(train_loader))\n",
        "print(sample.shape)"
      ],
      "execution_count": 26,
      "outputs": [
        {
          "output_type": "stream",
          "text": [
            "torch.Size([32, 3, 128, 128])\n"
          ],
          "name": "stdout"
        }
      ]
    },
    {
      "cell_type": "code",
      "metadata": {
        "id": "hzI69x1LVyMP"
      },
      "source": [
        "test_loader = torch.utils.data.DataLoader(dataset=test_dataset, batch_size=32, shuffle=True, drop_last=True)\n",
        "test_dl = torch.utils.data.DataLoader(dataset=test_dataset, batch_size=32, shuffle=True, drop_last=True)"
      ],
      "execution_count": 27,
      "outputs": []
    },
    {
      "cell_type": "code",
      "metadata": {
        "id": "uttfRa_QWG9N",
        "outputId": "eeca3abe-176a-4320-d1f2-8d266d60028d",
        "colab": {
          "base_uri": "https://localhost:8080/",
          "height": 35
        }
      },
      "source": [
        "sample_test= next(iter(test_loader))\n",
        "print(sample_test.shape)"
      ],
      "execution_count": 28,
      "outputs": [
        {
          "output_type": "stream",
          "text": [
            "torch.Size([32, 3, 128, 128])\n"
          ],
          "name": "stdout"
        }
      ]
    },
    {
      "cell_type": "code",
      "metadata": {
        "id": "UKkMP6dPKiwY"
      },
      "source": [
        "CUDA = True\n",
        "SEED = 1\n",
        "BATCH_SIZE = 128\n",
        "LOG_INTERVAL = 10\n",
        "EPOCHS = 10\n",
        "\n",
        "# connections through the autoencoder bottleneck\n",
        "# in the pytorch VAE example, this is 20\n",
        "ZDIMS = 20\n",
        "\n"
      ],
      "execution_count": null,
      "outputs": []
    },
    {
      "cell_type": "code",
      "metadata": {
        "id": "Jp3xctg3LYFk"
      },
      "source": [
        "torch.manual_seed(SEED)\n",
        "if CUDA:\n",
        "    torch.cuda.manual_seed(SEED)\n",
        "\n",
        "# DataLoader instances will load tensors directly into GPU memory\n",
        "kwargs = {'num_workers': 1, 'pin_memory': True} if CUDA else {}\n",
        "\n",
        "# Download or load downloaded MNIST dataset\n",
        "# shuffle data at every epoch\n"
      ],
      "execution_count": null,
      "outputs": []
    },
    {
      "cell_type": "markdown",
      "metadata": {
        "id": "4nTHEpxBWt3U"
      },
      "source": [
        "### Define the VAE Class"
      ]
    },
    {
      "cell_type": "code",
      "metadata": {
        "id": "X5yVziVBLkvS"
      },
      "source": [
        "class VAE(nn.Module):\n",
        "    def __init__(self):\n",
        "        super(VAE, self).__init__()\n",
        "\n",
        "        # ENCODER\n",
        "        # 28 x 28 pixels = 784 input pixels, 400 outputs\n",
        "        self.fc1 = nn.Linear(784, 400)\n",
        "        # rectified linear unit layer from 400 to 400\n",
        "        # max(0, x)\n",
        "        self.relu = nn.ReLU()\n",
        "        self.fc21 = nn.Linear(400, ZDIMS)  # mu layer\n",
        "        self.fc22 = nn.Linear(400, ZDIMS)  # logvariance layer\n",
        "        # this last layer bottlenecks through ZDIMS connections\n",
        "\n",
        "        # DECODER\n",
        "        # from bottleneck to hidden 400\n",
        "        self.fc3 = nn.Linear(ZDIMS, 400)\n",
        "        # from hidden 400 to 784 outputs\n",
        "        self.fc4 = nn.Linear(400, 784)\n",
        "        self.sigmoid = nn.Sigmoid()\n",
        "\n",
        "    def encode(self, x: Variable) -> (Variable, Variable):\n",
        "        \"\"\"Input vector x -> fully connected 1 -> ReLU -> (fully connected\n",
        "        21, fully connected 22)\n",
        "\n",
        "        Parameters\n",
        "        ----------\n",
        "        x : [128, 784] matrix; 128 digits of 28x28 pixels each\n",
        "\n",
        "        Returns\n",
        "        -------\n",
        "\n",
        "        (mu, logvar) : ZDIMS mean units one for each latent dimension, ZDIMS\n",
        "            variance units one for each latent dimension\n",
        "\n",
        "        \"\"\"\n",
        "\n",
        "        # h1 is [128, 400]\n",
        "        h1 = self.relu(self.fc1(x))  # type: Variable\n",
        "        return self.fc21(h1), self.fc22(h1)\n",
        "\n",
        "    def reparameterize(self, mu: Variable, logvar: Variable) -> Variable:\n",
        "        \"\"\"THE REPARAMETERIZATION IDEA:\n",
        "\n",
        "        For each training sample (we get 128 batched at a time)\n",
        "\n",
        "        - take the current learned mu, stddev for each of the ZDIMS\n",
        "          dimensions and draw a random sample from that distribution\n",
        "        - the whole network is trained so that these randomly drawn\n",
        "          samples decode to output that looks like the input\n",
        "        - which will mean that the std, mu will be learned\n",
        "          *distributions* that correctly encode the inputs\n",
        "        - due to the additional KLD term (see loss_function() below)\n",
        "          the distribution will tend to unit Gaussians\n",
        "\n",
        "        Parameters\n",
        "        ----------\n",
        "        mu : [128, ZDIMS] mean matrix\n",
        "        logvar : [128, ZDIMS] variance matrix\n",
        "\n",
        "        Returns\n",
        "        -------\n",
        "\n",
        "        During training random sample from the learned ZDIMS-dimensional\n",
        "        normal distribution; during inference its mean.\n",
        "\n",
        "        \"\"\"\n",
        "\n",
        "        if self.training:\n",
        "            # multiply log variance with 0.5, then in-place exponent\n",
        "            # yielding the standard deviation\n",
        "            std = logvar.mul(0.5).exp_()  # type: Variable\n",
        "            # - std.data is the [128,ZDIMS] tensor that is wrapped by std\n",
        "            # - so eps is [128,ZDIMS] with all elements drawn from a mean 0\n",
        "            #   and stddev 1 normal distribution that is 128 samples\n",
        "            #   of random ZDIMS-float vectors\n",
        "            eps = Variable(std.data.new(std.size()).normal_())\n",
        "            # - sample from a normal distribution with standard\n",
        "            #   deviation = std and mean = mu by multiplying mean 0\n",
        "            #   stddev 1 sample with desired std and mu, see\n",
        "            #   https://stats.stackexchange.com/a/16338\n",
        "            # - so we have 128 sets (the batch) of random ZDIMS-float\n",
        "            #   vectors sampled from normal distribution with learned\n",
        "            #   std and mu for the current input\n",
        "            return eps.mul(std).add_(mu)\n",
        "\n",
        "        else:\n",
        "            # During inference, we simply spit out the mean of the\n",
        "            # learned distribution for the current input.  We could\n",
        "            # use a random sample from the distribution, but mu of\n",
        "            # course has the highest probability.\n",
        "            return mu\n",
        "\n",
        "    def decode(self, z: Variable) -> Variable:\n",
        "        h3 = self.relu(self.fc3(z))\n",
        "        return self.sigmoid(self.fc4(h3))\n",
        "\n",
        "    def forward(self, x: Variable) -> (Variable, Variable, Variable):\n",
        "        mu, logvar = self.encode(x.view(-1, 784))\n",
        "        z = self.reparameterize(mu, logvar)\n",
        "        return self.decode(z), mu, logvar\n"
      ],
      "execution_count": null,
      "outputs": []
    },
    {
      "cell_type": "markdown",
      "metadata": {
        "id": "NPsnLxGaWykF"
      },
      "source": [
        "### Initialize VAE Model"
      ]
    },
    {
      "cell_type": "code",
      "metadata": {
        "id": "aBslQLWILubR"
      },
      "source": [
        "model = VAE()\n",
        "if CUDA:\n",
        "    model.cuda()\n",
        "\n"
      ],
      "execution_count": null,
      "outputs": []
    },
    {
      "cell_type": "markdown",
      "metadata": {
        "id": "ua55SpBAW2ZS"
      },
      "source": [
        "### DEfine Loss Function"
      ]
    },
    {
      "cell_type": "code",
      "metadata": {
        "id": "id9X_PJ2MWFh"
      },
      "source": [
        "def loss_function(recon_x, x, mu, logvar) -> Variable:\n",
        "    # how well do input x and output recon_x agree?\n",
        "    BCE = F.binary_cross_entropy(recon_x, x.view(-1, 784))\n",
        "\n",
        "    # KLD is Kullback–Leibler divergence -- how much does one learned\n",
        "    # distribution deviate from another, in this specific case the\n",
        "    # learned distribution from the unit Gaussian\n",
        "\n",
        "    # see Appendix B from VAE paper:\n",
        "    # Kingma and Welling. Auto-Encoding Variational Bayes. ICLR, 2014\n",
        "    # https://arxiv.org/abs/1312.6114\n",
        "    # - D_{KL} = 0.5 * sum(1 + log(sigma^2) - mu^2 - sigma^2)\n",
        "    # note the negative D_{KL} in appendix B of the paper\n",
        "    KLD = -0.5 * torch.sum(1 + logvar - mu.pow(2) - logvar.exp())\n",
        "    # Normalise by same number of elements as in reconstruction\n",
        "    KLD /= BATCH_SIZE * 784\n",
        "\n",
        "    # BCE tries to make our reconstruction as accurate as possible\n",
        "    # KLD tries to push the distributions as close as possible to unit Gaussian\n",
        "    return BCE + KLD\n",
        "\n",
        "# Dr Diederik Kingma: as if VAEs weren't enough, he also gave us Adam!\n",
        "optimizer = optim.Adam(model.parameters(), lr=1e-3)\n",
        "\n"
      ],
      "execution_count": null,
      "outputs": []
    },
    {
      "cell_type": "markdown",
      "metadata": {
        "id": "QDcfcvvoW65-"
      },
      "source": [
        "### Define Train and Test function"
      ]
    },
    {
      "cell_type": "code",
      "metadata": {
        "id": "lmd17lEiMd2l"
      },
      "source": [
        "def train(epoch):\n",
        "    # toggle model to train mode\n",
        "    model.train()\n",
        "    train_loss = 0\n",
        "    # in the case of MNIST, len(train_loader.dataset) is 60000\n",
        "    # each `data` is of BATCH_SIZE samples and has shape [128, 1, 28, 28]\n",
        "    for batch_idx, (data, _) in enumerate(train_loader):\n",
        "        data = Variable(data)\n",
        "        if CUDA:\n",
        "            data = data.cuda()\n",
        "        optimizer.zero_grad()\n",
        "\n",
        "        # push whole batch of data through VAE.forward() to get recon_loss\n",
        "        recon_batch, mu, logvar = model(data)\n",
        "        # calculate scalar loss\n",
        "        loss = loss_function(recon_batch, data, mu, logvar)\n",
        "        # calculate the gradient of the loss w.r.t. the graph leaves\n",
        "        # i.e. input variables -- by the power of pytorch!\n",
        "        loss.backward()\n",
        "        train_loss += loss.data\n",
        "        #total_loss += loss_val.data\n",
        "        #loss_values = [v.data for v in losses]\n",
        "        optimizer.step()\n",
        "        if batch_idx % LOG_INTERVAL == 0:\n",
        "            print('Train Epoch: {} [{}/{} ({:.0f}%)]\\tLoss: {:.6f}'.format(\n",
        "                epoch, batch_idx * len(data), len(train_loader.dataset),\n",
        "                100. * batch_idx / len(train_loader),\n",
        "                loss.data / len(data)))\n",
        "\n",
        "    print('====> Epoch: {} Average loss: {:.4f}'.format(\n",
        "          epoch, train_loss / len(train_loader.dataset)))\n"
      ],
      "execution_count": null,
      "outputs": []
    },
    {
      "cell_type": "code",
      "metadata": {
        "id": "tiFvpz_vMoc0"
      },
      "source": [
        "def test(epoch):\n",
        "    # toggle model to test / inference mode\n",
        "    model.eval()\n",
        "    test_loss = 0\n",
        "\n",
        "    # each data is of BATCH_SIZE (default 128) samples\n",
        "    for i, (data, _) in enumerate(test_loader):\n",
        "        if CUDA:\n",
        "            # make sure this lives on the GPU\n",
        "            data = data.cuda()\n",
        "\n",
        "        # we're only going to infer, so no autograd at all required: volatile=True\n",
        "        data = Variable(data, volatile=True)\n",
        "        recon_batch, mu, logvar = model(data)\n",
        "        test_loss += loss_function(recon_batch, data, mu, logvar).data\n",
        "        if i == 0:\n",
        "          n = min(data.size(0), 8)\n",
        "          # for the first 128 batch of the epoch, show the first 8 input digits\n",
        "          # with right below them the reconstructed output digits\n",
        "          comparison = torch.cat([data[:n],\n",
        "                                  recon_batch.view(BATCH_SIZE, 1, 28, 28)[:n]])\n",
        "          save_image(comparison.data.cpu(),\n",
        "                     'results/reconstruction_' + str(epoch) + '.png', nrow=n)\n",
        "\n",
        "    test_loss /= len(test_loader.dataset)\n",
        "    print('====> Test set loss: {:.4f}'.format(test_loss))\n"
      ],
      "execution_count": null,
      "outputs": []
    },
    {
      "cell_type": "markdown",
      "metadata": {
        "id": "_i9p_-bzXBrz"
      },
      "source": [
        "### Train the Model"
      ]
    },
    {
      "cell_type": "code",
      "metadata": {
        "id": "2qsPu3rRMzsN",
        "outputId": "eab8cb0c-34d2-425d-ff63-7297d46260a7",
        "colab": {
          "base_uri": "https://localhost:8080/",
          "height": 1000
        }
      },
      "source": [
        "for epoch in range(1, EPOCHS + 1):\n",
        "    train(epoch)\n",
        "    test(epoch)\n",
        "\n",
        "    # 64 sets of random ZDIMS-float vectors, i.e. 64 locations / MNIST\n",
        "    # digits in latent space\n",
        "    sample = Variable(torch.randn(64, ZDIMS))\n",
        "    if CUDA:\n",
        "        sample = sample.cuda()\n",
        "    sample = model.decode(sample).cpu()\n",
        "\n",
        "    # save out as an 8x8 matrix of MNIST digits\n",
        "    # this will give you a visual idea of how well latent space can generate things\n",
        "    # that look like digits\n",
        "    save_image(sample.data.view(64, 1, 28, 28),\n",
        "               'results/sample_' + str(epoch) + '.png')"
      ],
      "execution_count": null,
      "outputs": [
        {
          "output_type": "stream",
          "text": [
            "Train Epoch: 1 [0/60000 (0%)]\tLoss: 0.001148\n",
            "Train Epoch: 1 [1280/60000 (2%)]\tLoss: 0.001178\n",
            "Train Epoch: 1 [2560/60000 (4%)]\tLoss: 0.001151\n",
            "Train Epoch: 1 [3840/60000 (6%)]\tLoss: 0.001187\n",
            "Train Epoch: 1 [5120/60000 (9%)]\tLoss: 0.001115\n",
            "Train Epoch: 1 [6400/60000 (11%)]\tLoss: 0.001164\n",
            "Train Epoch: 1 [7680/60000 (13%)]\tLoss: 0.001107\n",
            "Train Epoch: 1 [8960/60000 (15%)]\tLoss: 0.001160\n",
            "Train Epoch: 1 [10240/60000 (17%)]\tLoss: 0.001146\n",
            "Train Epoch: 1 [11520/60000 (19%)]\tLoss: 0.001147\n",
            "Train Epoch: 1 [12800/60000 (21%)]\tLoss: 0.001151\n",
            "Train Epoch: 1 [14080/60000 (23%)]\tLoss: 0.001139\n",
            "Train Epoch: 1 [15360/60000 (26%)]\tLoss: 0.001143\n",
            "Train Epoch: 1 [16640/60000 (28%)]\tLoss: 0.001119\n",
            "Train Epoch: 1 [17920/60000 (30%)]\tLoss: 0.001131\n",
            "Train Epoch: 1 [19200/60000 (32%)]\tLoss: 0.001139\n",
            "Train Epoch: 1 [20480/60000 (34%)]\tLoss: 0.001162\n",
            "Train Epoch: 1 [21760/60000 (36%)]\tLoss: 0.001156\n",
            "Train Epoch: 1 [23040/60000 (38%)]\tLoss: 0.001096\n",
            "Train Epoch: 1 [24320/60000 (41%)]\tLoss: 0.001140\n",
            "Train Epoch: 1 [25600/60000 (43%)]\tLoss: 0.001181\n",
            "Train Epoch: 1 [26880/60000 (45%)]\tLoss: 0.001138\n",
            "Train Epoch: 1 [28160/60000 (47%)]\tLoss: 0.001091\n",
            "Train Epoch: 1 [29440/60000 (49%)]\tLoss: 0.001162\n",
            "Train Epoch: 1 [30720/60000 (51%)]\tLoss: 0.001119\n",
            "Train Epoch: 1 [32000/60000 (53%)]\tLoss: 0.001120\n",
            "Train Epoch: 1 [33280/60000 (55%)]\tLoss: 0.001097\n",
            "Train Epoch: 1 [34560/60000 (58%)]\tLoss: 0.001144\n",
            "Train Epoch: 1 [35840/60000 (60%)]\tLoss: 0.001142\n",
            "Train Epoch: 1 [37120/60000 (62%)]\tLoss: 0.001127\n",
            "Train Epoch: 1 [38400/60000 (64%)]\tLoss: 0.001155\n",
            "Train Epoch: 1 [39680/60000 (66%)]\tLoss: 0.001137\n",
            "Train Epoch: 1 [40960/60000 (68%)]\tLoss: 0.001108\n",
            "Train Epoch: 1 [42240/60000 (70%)]\tLoss: 0.001106\n",
            "Train Epoch: 1 [43520/60000 (72%)]\tLoss: 0.001133\n",
            "Train Epoch: 1 [44800/60000 (75%)]\tLoss: 0.001173\n",
            "Train Epoch: 1 [46080/60000 (77%)]\tLoss: 0.001132\n",
            "Train Epoch: 1 [47360/60000 (79%)]\tLoss: 0.001105\n",
            "Train Epoch: 1 [48640/60000 (81%)]\tLoss: 0.001157\n",
            "Train Epoch: 1 [49920/60000 (83%)]\tLoss: 0.001087\n",
            "Train Epoch: 1 [51200/60000 (85%)]\tLoss: 0.001079\n",
            "Train Epoch: 1 [52480/60000 (87%)]\tLoss: 0.001145\n",
            "Train Epoch: 1 [53760/60000 (90%)]\tLoss: 0.001148\n",
            "Train Epoch: 1 [55040/60000 (92%)]\tLoss: 0.001115\n",
            "Train Epoch: 1 [56320/60000 (94%)]\tLoss: 0.001156\n",
            "Train Epoch: 1 [57600/60000 (96%)]\tLoss: 0.001094\n",
            "Train Epoch: 1 [58880/60000 (98%)]\tLoss: 0.001126\n",
            "====> Epoch: 1 Average loss: 0.0011\n"
          ],
          "name": "stdout"
        },
        {
          "output_type": "stream",
          "text": [
            "/usr/local/lib/python3.6/dist-packages/ipykernel_launcher.py:13: UserWarning: volatile was removed and now has no effect. Use `with torch.no_grad():` instead.\n",
            "  del sys.path[0]\n"
          ],
          "name": "stderr"
        },
        {
          "output_type": "stream",
          "text": [
            "====> Test set loss: 0.0010\n",
            "Train Epoch: 2 [0/60000 (0%)]\tLoss: 0.001063\n",
            "Train Epoch: 2 [1280/60000 (2%)]\tLoss: 0.001163\n",
            "Train Epoch: 2 [2560/60000 (4%)]\tLoss: 0.001118\n",
            "Train Epoch: 2 [3840/60000 (6%)]\tLoss: 0.001081\n",
            "Train Epoch: 2 [5120/60000 (9%)]\tLoss: 0.001165\n",
            "Train Epoch: 2 [6400/60000 (11%)]\tLoss: 0.001118\n",
            "Train Epoch: 2 [7680/60000 (13%)]\tLoss: 0.001110\n",
            "Train Epoch: 2 [8960/60000 (15%)]\tLoss: 0.001102\n",
            "Train Epoch: 2 [10240/60000 (17%)]\tLoss: 0.001075\n",
            "Train Epoch: 2 [11520/60000 (19%)]\tLoss: 0.001134\n",
            "Train Epoch: 2 [12800/60000 (21%)]\tLoss: 0.001164\n",
            "Train Epoch: 2 [14080/60000 (23%)]\tLoss: 0.001109\n",
            "Train Epoch: 2 [15360/60000 (26%)]\tLoss: 0.001140\n",
            "Train Epoch: 2 [16640/60000 (28%)]\tLoss: 0.001135\n",
            "Train Epoch: 2 [17920/60000 (30%)]\tLoss: 0.001101\n",
            "Train Epoch: 2 [19200/60000 (32%)]\tLoss: 0.001104\n",
            "Train Epoch: 2 [20480/60000 (34%)]\tLoss: 0.001070\n",
            "Train Epoch: 2 [21760/60000 (36%)]\tLoss: 0.001125\n",
            "Train Epoch: 2 [23040/60000 (38%)]\tLoss: 0.001107\n",
            "Train Epoch: 2 [24320/60000 (41%)]\tLoss: 0.001138\n",
            "Train Epoch: 2 [25600/60000 (43%)]\tLoss: 0.001126\n",
            "Train Epoch: 2 [26880/60000 (45%)]\tLoss: 0.001136\n",
            "Train Epoch: 2 [28160/60000 (47%)]\tLoss: 0.001124\n",
            "Train Epoch: 2 [29440/60000 (49%)]\tLoss: 0.001091\n",
            "Train Epoch: 2 [30720/60000 (51%)]\tLoss: 0.001115\n",
            "Train Epoch: 2 [32000/60000 (53%)]\tLoss: 0.001116\n",
            "Train Epoch: 2 [33280/60000 (55%)]\tLoss: 0.001083\n",
            "Train Epoch: 2 [34560/60000 (58%)]\tLoss: 0.001105\n",
            "Train Epoch: 2 [35840/60000 (60%)]\tLoss: 0.001126\n",
            "Train Epoch: 2 [37120/60000 (62%)]\tLoss: 0.001098\n",
            "Train Epoch: 2 [38400/60000 (64%)]\tLoss: 0.001094\n",
            "Train Epoch: 2 [39680/60000 (66%)]\tLoss: 0.001066\n",
            "Train Epoch: 2 [40960/60000 (68%)]\tLoss: 0.001106\n",
            "Train Epoch: 2 [42240/60000 (70%)]\tLoss: 0.001110\n",
            "Train Epoch: 2 [43520/60000 (72%)]\tLoss: 0.001140\n",
            "Train Epoch: 2 [44800/60000 (75%)]\tLoss: 0.001058\n",
            "Train Epoch: 2 [46080/60000 (77%)]\tLoss: 0.001092\n",
            "Train Epoch: 2 [47360/60000 (79%)]\tLoss: 0.001124\n",
            "Train Epoch: 2 [48640/60000 (81%)]\tLoss: 0.001113\n",
            "Train Epoch: 2 [49920/60000 (83%)]\tLoss: 0.001122\n",
            "Train Epoch: 2 [51200/60000 (85%)]\tLoss: 0.001145\n",
            "Train Epoch: 2 [52480/60000 (87%)]\tLoss: 0.001096\n",
            "Train Epoch: 2 [53760/60000 (90%)]\tLoss: 0.001130\n",
            "Train Epoch: 2 [55040/60000 (92%)]\tLoss: 0.001091\n",
            "Train Epoch: 2 [56320/60000 (94%)]\tLoss: 0.001101\n",
            "Train Epoch: 2 [57600/60000 (96%)]\tLoss: 0.001121\n",
            "Train Epoch: 2 [58880/60000 (98%)]\tLoss: 0.001129\n",
            "====> Epoch: 2 Average loss: 0.0011\n",
            "====> Test set loss: 0.0010\n",
            "Train Epoch: 3 [0/60000 (0%)]\tLoss: 0.001097\n",
            "Train Epoch: 3 [1280/60000 (2%)]\tLoss: 0.001107\n",
            "Train Epoch: 3 [2560/60000 (4%)]\tLoss: 0.001070\n",
            "Train Epoch: 3 [3840/60000 (6%)]\tLoss: 0.001075\n",
            "Train Epoch: 3 [5120/60000 (9%)]\tLoss: 0.001099\n",
            "Train Epoch: 3 [6400/60000 (11%)]\tLoss: 0.001079\n",
            "Train Epoch: 3 [7680/60000 (13%)]\tLoss: 0.001083\n",
            "Train Epoch: 3 [8960/60000 (15%)]\tLoss: 0.001091\n",
            "Train Epoch: 3 [10240/60000 (17%)]\tLoss: 0.001106\n",
            "Train Epoch: 3 [11520/60000 (19%)]\tLoss: 0.001101\n",
            "Train Epoch: 3 [12800/60000 (21%)]\tLoss: 0.001126\n",
            "Train Epoch: 3 [14080/60000 (23%)]\tLoss: 0.001092\n",
            "Train Epoch: 3 [15360/60000 (26%)]\tLoss: 0.001109\n",
            "Train Epoch: 3 [16640/60000 (28%)]\tLoss: 0.001097\n",
            "Train Epoch: 3 [17920/60000 (30%)]\tLoss: 0.001119\n",
            "Train Epoch: 3 [19200/60000 (32%)]\tLoss: 0.001118\n",
            "Train Epoch: 3 [20480/60000 (34%)]\tLoss: 0.001138\n",
            "Train Epoch: 3 [21760/60000 (36%)]\tLoss: 0.001081\n",
            "Train Epoch: 3 [23040/60000 (38%)]\tLoss: 0.001123\n",
            "Train Epoch: 3 [24320/60000 (41%)]\tLoss: 0.001074\n",
            "Train Epoch: 3 [25600/60000 (43%)]\tLoss: 0.001111\n",
            "Train Epoch: 3 [26880/60000 (45%)]\tLoss: 0.001077\n",
            "Train Epoch: 3 [28160/60000 (47%)]\tLoss: 0.001046\n",
            "Train Epoch: 3 [29440/60000 (49%)]\tLoss: 0.001117\n",
            "Train Epoch: 3 [30720/60000 (51%)]\tLoss: 0.001094\n",
            "Train Epoch: 3 [32000/60000 (53%)]\tLoss: 0.001098\n",
            "Train Epoch: 3 [33280/60000 (55%)]\tLoss: 0.001074\n",
            "Train Epoch: 3 [34560/60000 (58%)]\tLoss: 0.001076\n",
            "Train Epoch: 3 [35840/60000 (60%)]\tLoss: 0.001125\n",
            "Train Epoch: 3 [37120/60000 (62%)]\tLoss: 0.001095\n",
            "Train Epoch: 3 [38400/60000 (64%)]\tLoss: 0.001123\n",
            "Train Epoch: 3 [39680/60000 (66%)]\tLoss: 0.001052\n",
            "Train Epoch: 3 [40960/60000 (68%)]\tLoss: 0.001091\n",
            "Train Epoch: 3 [42240/60000 (70%)]\tLoss: 0.001071\n",
            "Train Epoch: 3 [43520/60000 (72%)]\tLoss: 0.001096\n",
            "Train Epoch: 3 [44800/60000 (75%)]\tLoss: 0.001040\n",
            "Train Epoch: 3 [46080/60000 (77%)]\tLoss: 0.001050\n",
            "Train Epoch: 3 [47360/60000 (79%)]\tLoss: 0.001112\n",
            "Train Epoch: 3 [48640/60000 (81%)]\tLoss: 0.001078\n",
            "Train Epoch: 3 [49920/60000 (83%)]\tLoss: 0.001105\n",
            "Train Epoch: 3 [51200/60000 (85%)]\tLoss: 0.001075\n",
            "Train Epoch: 3 [52480/60000 (87%)]\tLoss: 0.001129\n",
            "Train Epoch: 3 [53760/60000 (90%)]\tLoss: 0.001090\n",
            "Train Epoch: 3 [55040/60000 (92%)]\tLoss: 0.001098\n",
            "Train Epoch: 3 [56320/60000 (94%)]\tLoss: 0.001059\n",
            "Train Epoch: 3 [57600/60000 (96%)]\tLoss: 0.001091\n",
            "Train Epoch: 3 [58880/60000 (98%)]\tLoss: 0.001130\n",
            "====> Epoch: 3 Average loss: 0.0011\n",
            "====> Test set loss: 0.0010\n",
            "Train Epoch: 4 [0/60000 (0%)]\tLoss: 0.001142\n",
            "Train Epoch: 4 [1280/60000 (2%)]\tLoss: 0.001103\n",
            "Train Epoch: 4 [2560/60000 (4%)]\tLoss: 0.001090\n",
            "Train Epoch: 4 [3840/60000 (6%)]\tLoss: 0.001099\n",
            "Train Epoch: 4 [5120/60000 (9%)]\tLoss: 0.001056\n",
            "Train Epoch: 4 [6400/60000 (11%)]\tLoss: 0.001060\n",
            "Train Epoch: 4 [7680/60000 (13%)]\tLoss: 0.001054\n",
            "Train Epoch: 4 [8960/60000 (15%)]\tLoss: 0.001087\n",
            "Train Epoch: 4 [10240/60000 (17%)]\tLoss: 0.001065\n",
            "Train Epoch: 4 [11520/60000 (19%)]\tLoss: 0.001095\n",
            "Train Epoch: 4 [12800/60000 (21%)]\tLoss: 0.001081\n",
            "Train Epoch: 4 [14080/60000 (23%)]\tLoss: 0.001052\n",
            "Train Epoch: 4 [15360/60000 (26%)]\tLoss: 0.001086\n",
            "Train Epoch: 4 [16640/60000 (28%)]\tLoss: 0.001067\n",
            "Train Epoch: 4 [17920/60000 (30%)]\tLoss: 0.001059\n",
            "Train Epoch: 4 [19200/60000 (32%)]\tLoss: 0.001085\n",
            "Train Epoch: 4 [20480/60000 (34%)]\tLoss: 0.001107\n",
            "Train Epoch: 4 [21760/60000 (36%)]\tLoss: 0.001103\n",
            "Train Epoch: 4 [23040/60000 (38%)]\tLoss: 0.001109\n",
            "Train Epoch: 4 [24320/60000 (41%)]\tLoss: 0.001102\n",
            "Train Epoch: 4 [25600/60000 (43%)]\tLoss: 0.001079\n",
            "Train Epoch: 4 [26880/60000 (45%)]\tLoss: 0.001032\n",
            "Train Epoch: 4 [28160/60000 (47%)]\tLoss: 0.001061\n",
            "Train Epoch: 4 [29440/60000 (49%)]\tLoss: 0.001087\n",
            "Train Epoch: 4 [30720/60000 (51%)]\tLoss: 0.001095\n",
            "Train Epoch: 4 [32000/60000 (53%)]\tLoss: 0.001078\n",
            "Train Epoch: 4 [33280/60000 (55%)]\tLoss: 0.001077\n",
            "Train Epoch: 4 [34560/60000 (58%)]\tLoss: 0.001076\n",
            "Train Epoch: 4 [35840/60000 (60%)]\tLoss: 0.001047\n",
            "Train Epoch: 4 [37120/60000 (62%)]\tLoss: 0.001070\n",
            "Train Epoch: 4 [38400/60000 (64%)]\tLoss: 0.001059\n",
            "Train Epoch: 4 [39680/60000 (66%)]\tLoss: 0.001092\n",
            "Train Epoch: 4 [40960/60000 (68%)]\tLoss: 0.001078\n",
            "Train Epoch: 4 [42240/60000 (70%)]\tLoss: 0.001076\n",
            "Train Epoch: 4 [43520/60000 (72%)]\tLoss: 0.001098\n",
            "Train Epoch: 4 [44800/60000 (75%)]\tLoss: 0.001088\n",
            "Train Epoch: 4 [46080/60000 (77%)]\tLoss: 0.001094\n",
            "Train Epoch: 4 [47360/60000 (79%)]\tLoss: 0.001120\n",
            "Train Epoch: 4 [48640/60000 (81%)]\tLoss: 0.001106\n",
            "Train Epoch: 4 [49920/60000 (83%)]\tLoss: 0.001079\n",
            "Train Epoch: 4 [51200/60000 (85%)]\tLoss: 0.001050\n",
            "Train Epoch: 4 [52480/60000 (87%)]\tLoss: 0.001055\n",
            "Train Epoch: 4 [53760/60000 (90%)]\tLoss: 0.001103\n",
            "Train Epoch: 4 [55040/60000 (92%)]\tLoss: 0.001066\n",
            "Train Epoch: 4 [56320/60000 (94%)]\tLoss: 0.001052\n",
            "Train Epoch: 4 [57600/60000 (96%)]\tLoss: 0.001044\n",
            "Train Epoch: 4 [58880/60000 (98%)]\tLoss: 0.001038\n",
            "====> Epoch: 4 Average loss: 0.0011\n",
            "====> Test set loss: 0.0010\n",
            "Train Epoch: 5 [0/60000 (0%)]\tLoss: 0.001094\n",
            "Train Epoch: 5 [1280/60000 (2%)]\tLoss: 0.001063\n",
            "Train Epoch: 5 [2560/60000 (4%)]\tLoss: 0.001104\n",
            "Train Epoch: 5 [3840/60000 (6%)]\tLoss: 0.001050\n",
            "Train Epoch: 5 [5120/60000 (9%)]\tLoss: 0.001060\n",
            "Train Epoch: 5 [6400/60000 (11%)]\tLoss: 0.001085\n",
            "Train Epoch: 5 [7680/60000 (13%)]\tLoss: 0.001090\n",
            "Train Epoch: 5 [8960/60000 (15%)]\tLoss: 0.001068\n",
            "Train Epoch: 5 [10240/60000 (17%)]\tLoss: 0.001065\n",
            "Train Epoch: 5 [11520/60000 (19%)]\tLoss: 0.001095\n",
            "Train Epoch: 5 [12800/60000 (21%)]\tLoss: 0.001038\n",
            "Train Epoch: 5 [14080/60000 (23%)]\tLoss: 0.001110\n",
            "Train Epoch: 5 [15360/60000 (26%)]\tLoss: 0.001096\n",
            "Train Epoch: 5 [16640/60000 (28%)]\tLoss: 0.001086\n",
            "Train Epoch: 5 [17920/60000 (30%)]\tLoss: 0.001067\n",
            "Train Epoch: 5 [19200/60000 (32%)]\tLoss: 0.001118\n",
            "Train Epoch: 5 [20480/60000 (34%)]\tLoss: 0.001045\n",
            "Train Epoch: 5 [21760/60000 (36%)]\tLoss: 0.001097\n",
            "Train Epoch: 5 [23040/60000 (38%)]\tLoss: 0.001044\n",
            "Train Epoch: 5 [24320/60000 (41%)]\tLoss: 0.001102\n",
            "Train Epoch: 5 [25600/60000 (43%)]\tLoss: 0.001091\n",
            "Train Epoch: 5 [26880/60000 (45%)]\tLoss: 0.001052\n",
            "Train Epoch: 5 [28160/60000 (47%)]\tLoss: 0.001081\n",
            "Train Epoch: 5 [29440/60000 (49%)]\tLoss: 0.001073\n",
            "Train Epoch: 5 [30720/60000 (51%)]\tLoss: 0.001093\n",
            "Train Epoch: 5 [32000/60000 (53%)]\tLoss: 0.001082\n",
            "Train Epoch: 5 [33280/60000 (55%)]\tLoss: 0.001057\n",
            "Train Epoch: 5 [34560/60000 (58%)]\tLoss: 0.001080\n",
            "Train Epoch: 5 [35840/60000 (60%)]\tLoss: 0.001076\n",
            "Train Epoch: 5 [37120/60000 (62%)]\tLoss: 0.001054\n",
            "Train Epoch: 5 [38400/60000 (64%)]\tLoss: 0.001048\n",
            "Train Epoch: 5 [39680/60000 (66%)]\tLoss: 0.001088\n",
            "Train Epoch: 5 [40960/60000 (68%)]\tLoss: 0.001053\n",
            "Train Epoch: 5 [42240/60000 (70%)]\tLoss: 0.001078\n",
            "Train Epoch: 5 [43520/60000 (72%)]\tLoss: 0.001057\n",
            "Train Epoch: 5 [44800/60000 (75%)]\tLoss: 0.001038\n",
            "Train Epoch: 5 [46080/60000 (77%)]\tLoss: 0.001076\n",
            "Train Epoch: 5 [47360/60000 (79%)]\tLoss: 0.001036\n",
            "Train Epoch: 5 [48640/60000 (81%)]\tLoss: 0.001094\n",
            "Train Epoch: 5 [49920/60000 (83%)]\tLoss: 0.001066\n",
            "Train Epoch: 5 [51200/60000 (85%)]\tLoss: 0.001075\n",
            "Train Epoch: 5 [52480/60000 (87%)]\tLoss: 0.001088\n",
            "Train Epoch: 5 [53760/60000 (90%)]\tLoss: 0.001109\n",
            "Train Epoch: 5 [55040/60000 (92%)]\tLoss: 0.001058\n",
            "Train Epoch: 5 [56320/60000 (94%)]\tLoss: 0.001071\n",
            "Train Epoch: 5 [57600/60000 (96%)]\tLoss: 0.001143\n",
            "Train Epoch: 5 [58880/60000 (98%)]\tLoss: 0.001102\n",
            "====> Epoch: 5 Average loss: 0.0011\n",
            "====> Test set loss: 0.0010\n",
            "Train Epoch: 6 [0/60000 (0%)]\tLoss: 0.001088\n",
            "Train Epoch: 6 [1280/60000 (2%)]\tLoss: 0.001092\n",
            "Train Epoch: 6 [2560/60000 (4%)]\tLoss: 0.001014\n",
            "Train Epoch: 6 [3840/60000 (6%)]\tLoss: 0.001054\n",
            "Train Epoch: 6 [5120/60000 (9%)]\tLoss: 0.001041\n",
            "Train Epoch: 6 [6400/60000 (11%)]\tLoss: 0.001075\n",
            "Train Epoch: 6 [7680/60000 (13%)]\tLoss: 0.001084\n",
            "Train Epoch: 6 [8960/60000 (15%)]\tLoss: 0.001053\n",
            "Train Epoch: 6 [10240/60000 (17%)]\tLoss: 0.001089\n",
            "Train Epoch: 6 [11520/60000 (19%)]\tLoss: 0.001036\n",
            "Train Epoch: 6 [12800/60000 (21%)]\tLoss: 0.001086\n",
            "Train Epoch: 6 [14080/60000 (23%)]\tLoss: 0.001069\n",
            "Train Epoch: 6 [15360/60000 (26%)]\tLoss: 0.001134\n",
            "Train Epoch: 6 [16640/60000 (28%)]\tLoss: 0.001033\n",
            "Train Epoch: 6 [17920/60000 (30%)]\tLoss: 0.001080\n",
            "Train Epoch: 6 [19200/60000 (32%)]\tLoss: 0.001035\n",
            "Train Epoch: 6 [20480/60000 (34%)]\tLoss: 0.001052\n",
            "Train Epoch: 6 [21760/60000 (36%)]\tLoss: 0.001083\n",
            "Train Epoch: 6 [23040/60000 (38%)]\tLoss: 0.001047\n",
            "Train Epoch: 6 [24320/60000 (41%)]\tLoss: 0.001048\n",
            "Train Epoch: 6 [25600/60000 (43%)]\tLoss: 0.001055\n",
            "Train Epoch: 6 [26880/60000 (45%)]\tLoss: 0.001080\n",
            "Train Epoch: 6 [28160/60000 (47%)]\tLoss: 0.001121\n",
            "Train Epoch: 6 [29440/60000 (49%)]\tLoss: 0.001087\n",
            "Train Epoch: 6 [30720/60000 (51%)]\tLoss: 0.001064\n",
            "Train Epoch: 6 [32000/60000 (53%)]\tLoss: 0.001049\n",
            "Train Epoch: 6 [33280/60000 (55%)]\tLoss: 0.001083\n",
            "Train Epoch: 6 [34560/60000 (58%)]\tLoss: 0.001080\n",
            "Train Epoch: 6 [35840/60000 (60%)]\tLoss: 0.001074\n",
            "Train Epoch: 6 [37120/60000 (62%)]\tLoss: 0.001054\n",
            "Train Epoch: 6 [38400/60000 (64%)]\tLoss: 0.001058\n",
            "Train Epoch: 6 [39680/60000 (66%)]\tLoss: 0.001075\n",
            "Train Epoch: 6 [40960/60000 (68%)]\tLoss: 0.001023\n",
            "Train Epoch: 6 [42240/60000 (70%)]\tLoss: 0.001063\n",
            "Train Epoch: 6 [43520/60000 (72%)]\tLoss: 0.001113\n",
            "Train Epoch: 6 [44800/60000 (75%)]\tLoss: 0.001077\n",
            "Train Epoch: 6 [46080/60000 (77%)]\tLoss: 0.001046\n",
            "Train Epoch: 6 [47360/60000 (79%)]\tLoss: 0.001082\n",
            "Train Epoch: 6 [48640/60000 (81%)]\tLoss: 0.001070\n",
            "Train Epoch: 6 [49920/60000 (83%)]\tLoss: 0.001034\n",
            "Train Epoch: 6 [51200/60000 (85%)]\tLoss: 0.001062\n",
            "Train Epoch: 6 [52480/60000 (87%)]\tLoss: 0.001106\n",
            "Train Epoch: 6 [53760/60000 (90%)]\tLoss: 0.001009\n",
            "Train Epoch: 6 [55040/60000 (92%)]\tLoss: 0.001064\n",
            "Train Epoch: 6 [56320/60000 (94%)]\tLoss: 0.001051\n",
            "Train Epoch: 6 [57600/60000 (96%)]\tLoss: 0.000994\n",
            "Train Epoch: 6 [58880/60000 (98%)]\tLoss: 0.001098\n",
            "====> Epoch: 6 Average loss: 0.0011\n",
            "====> Test set loss: 0.0010\n",
            "Train Epoch: 7 [0/60000 (0%)]\tLoss: 0.001054\n",
            "Train Epoch: 7 [1280/60000 (2%)]\tLoss: 0.001107\n",
            "Train Epoch: 7 [2560/60000 (4%)]\tLoss: 0.001071\n",
            "Train Epoch: 7 [3840/60000 (6%)]\tLoss: 0.001061\n",
            "Train Epoch: 7 [5120/60000 (9%)]\tLoss: 0.001063\n",
            "Train Epoch: 7 [6400/60000 (11%)]\tLoss: 0.001046\n",
            "Train Epoch: 7 [7680/60000 (13%)]\tLoss: 0.001073\n",
            "Train Epoch: 7 [8960/60000 (15%)]\tLoss: 0.001031\n",
            "Train Epoch: 7 [10240/60000 (17%)]\tLoss: 0.001059\n",
            "Train Epoch: 7 [11520/60000 (19%)]\tLoss: 0.001081\n",
            "Train Epoch: 7 [12800/60000 (21%)]\tLoss: 0.001028\n",
            "Train Epoch: 7 [14080/60000 (23%)]\tLoss: 0.001052\n",
            "Train Epoch: 7 [15360/60000 (26%)]\tLoss: 0.001066\n",
            "Train Epoch: 7 [16640/60000 (28%)]\tLoss: 0.001051\n",
            "Train Epoch: 7 [17920/60000 (30%)]\tLoss: 0.001058\n",
            "Train Epoch: 7 [19200/60000 (32%)]\tLoss: 0.001095\n",
            "Train Epoch: 7 [20480/60000 (34%)]\tLoss: 0.001065\n",
            "Train Epoch: 7 [21760/60000 (36%)]\tLoss: 0.001044\n",
            "Train Epoch: 7 [23040/60000 (38%)]\tLoss: 0.001097\n",
            "Train Epoch: 7 [24320/60000 (41%)]\tLoss: 0.001041\n",
            "Train Epoch: 7 [25600/60000 (43%)]\tLoss: 0.001041\n",
            "Train Epoch: 7 [26880/60000 (45%)]\tLoss: 0.001085\n",
            "Train Epoch: 7 [28160/60000 (47%)]\tLoss: 0.001055\n",
            "Train Epoch: 7 [29440/60000 (49%)]\tLoss: 0.001091\n",
            "Train Epoch: 7 [30720/60000 (51%)]\tLoss: 0.001059\n",
            "Train Epoch: 7 [32000/60000 (53%)]\tLoss: 0.001086\n",
            "Train Epoch: 7 [33280/60000 (55%)]\tLoss: 0.001102\n",
            "Train Epoch: 7 [34560/60000 (58%)]\tLoss: 0.001089\n",
            "Train Epoch: 7 [35840/60000 (60%)]\tLoss: 0.001100\n",
            "Train Epoch: 7 [37120/60000 (62%)]\tLoss: 0.001057\n",
            "Train Epoch: 7 [38400/60000 (64%)]\tLoss: 0.001065\n",
            "Train Epoch: 7 [39680/60000 (66%)]\tLoss: 0.001080\n",
            "Train Epoch: 7 [40960/60000 (68%)]\tLoss: 0.001076\n",
            "Train Epoch: 7 [42240/60000 (70%)]\tLoss: 0.001055\n",
            "Train Epoch: 7 [43520/60000 (72%)]\tLoss: 0.001068\n",
            "Train Epoch: 7 [44800/60000 (75%)]\tLoss: 0.001108\n",
            "Train Epoch: 7 [46080/60000 (77%)]\tLoss: 0.001082\n",
            "Train Epoch: 7 [47360/60000 (79%)]\tLoss: 0.001079\n",
            "Train Epoch: 7 [48640/60000 (81%)]\tLoss: 0.001075\n",
            "Train Epoch: 7 [49920/60000 (83%)]\tLoss: 0.001066\n",
            "Train Epoch: 7 [51200/60000 (85%)]\tLoss: 0.001034\n",
            "Train Epoch: 7 [52480/60000 (87%)]\tLoss: 0.001029\n",
            "Train Epoch: 7 [53760/60000 (90%)]\tLoss: 0.001071\n",
            "Train Epoch: 7 [55040/60000 (92%)]\tLoss: 0.001037\n",
            "Train Epoch: 7 [56320/60000 (94%)]\tLoss: 0.001036\n",
            "Train Epoch: 7 [57600/60000 (96%)]\tLoss: 0.001076\n",
            "Train Epoch: 7 [58880/60000 (98%)]\tLoss: 0.001046\n",
            "====> Epoch: 7 Average loss: 0.0011\n",
            "====> Test set loss: 0.0010\n",
            "Train Epoch: 8 [0/60000 (0%)]\tLoss: 0.001087\n",
            "Train Epoch: 8 [1280/60000 (2%)]\tLoss: 0.001069\n",
            "Train Epoch: 8 [2560/60000 (4%)]\tLoss: 0.001068\n",
            "Train Epoch: 8 [3840/60000 (6%)]\tLoss: 0.001042\n",
            "Train Epoch: 8 [5120/60000 (9%)]\tLoss: 0.001037\n",
            "Train Epoch: 8 [6400/60000 (11%)]\tLoss: 0.001043\n",
            "Train Epoch: 8 [7680/60000 (13%)]\tLoss: 0.001040\n",
            "Train Epoch: 8 [8960/60000 (15%)]\tLoss: 0.001090\n",
            "Train Epoch: 8 [10240/60000 (17%)]\tLoss: 0.001044\n",
            "Train Epoch: 8 [11520/60000 (19%)]\tLoss: 0.001053\n",
            "Train Epoch: 8 [12800/60000 (21%)]\tLoss: 0.001092\n",
            "Train Epoch: 8 [14080/60000 (23%)]\tLoss: 0.001035\n",
            "Train Epoch: 8 [15360/60000 (26%)]\tLoss: 0.001068\n",
            "Train Epoch: 8 [16640/60000 (28%)]\tLoss: 0.001069\n",
            "Train Epoch: 8 [17920/60000 (30%)]\tLoss: 0.001045\n",
            "Train Epoch: 8 [19200/60000 (32%)]\tLoss: 0.001110\n",
            "Train Epoch: 8 [20480/60000 (34%)]\tLoss: 0.001038\n",
            "Train Epoch: 8 [21760/60000 (36%)]\tLoss: 0.001095\n",
            "Train Epoch: 8 [23040/60000 (38%)]\tLoss: 0.001049\n",
            "Train Epoch: 8 [24320/60000 (41%)]\tLoss: 0.001063\n",
            "Train Epoch: 8 [25600/60000 (43%)]\tLoss: 0.001047\n",
            "Train Epoch: 8 [26880/60000 (45%)]\tLoss: 0.001030\n",
            "Train Epoch: 8 [28160/60000 (47%)]\tLoss: 0.001032\n",
            "Train Epoch: 8 [29440/60000 (49%)]\tLoss: 0.001076\n",
            "Train Epoch: 8 [30720/60000 (51%)]\tLoss: 0.001041\n",
            "Train Epoch: 8 [32000/60000 (53%)]\tLoss: 0.001030\n",
            "Train Epoch: 8 [33280/60000 (55%)]\tLoss: 0.001072\n",
            "Train Epoch: 8 [34560/60000 (58%)]\tLoss: 0.001058\n",
            "Train Epoch: 8 [35840/60000 (60%)]\tLoss: 0.001061\n",
            "Train Epoch: 8 [37120/60000 (62%)]\tLoss: 0.001030\n",
            "Train Epoch: 8 [38400/60000 (64%)]\tLoss: 0.001029\n",
            "Train Epoch: 8 [39680/60000 (66%)]\tLoss: 0.001030\n",
            "Train Epoch: 8 [40960/60000 (68%)]\tLoss: 0.001035\n",
            "Train Epoch: 8 [42240/60000 (70%)]\tLoss: 0.001072\n",
            "Train Epoch: 8 [43520/60000 (72%)]\tLoss: 0.001088\n",
            "Train Epoch: 8 [44800/60000 (75%)]\tLoss: 0.001075\n",
            "Train Epoch: 8 [46080/60000 (77%)]\tLoss: 0.001037\n",
            "Train Epoch: 8 [47360/60000 (79%)]\tLoss: 0.001067\n",
            "Train Epoch: 8 [48640/60000 (81%)]\tLoss: 0.001061\n",
            "Train Epoch: 8 [49920/60000 (83%)]\tLoss: 0.001064\n",
            "Train Epoch: 8 [51200/60000 (85%)]\tLoss: 0.001052\n",
            "Train Epoch: 8 [52480/60000 (87%)]\tLoss: 0.001107\n",
            "Train Epoch: 8 [53760/60000 (90%)]\tLoss: 0.001105\n",
            "Train Epoch: 8 [55040/60000 (92%)]\tLoss: 0.001057\n",
            "Train Epoch: 8 [56320/60000 (94%)]\tLoss: 0.001037\n",
            "Train Epoch: 8 [57600/60000 (96%)]\tLoss: 0.001073\n",
            "Train Epoch: 8 [58880/60000 (98%)]\tLoss: 0.001041\n",
            "====> Epoch: 8 Average loss: 0.0011\n",
            "====> Test set loss: 0.0010\n",
            "Train Epoch: 9 [0/60000 (0%)]\tLoss: 0.001043\n",
            "Train Epoch: 9 [1280/60000 (2%)]\tLoss: 0.001092\n",
            "Train Epoch: 9 [2560/60000 (4%)]\tLoss: 0.001066\n",
            "Train Epoch: 9 [3840/60000 (6%)]\tLoss: 0.001056\n",
            "Train Epoch: 9 [5120/60000 (9%)]\tLoss: 0.001055\n",
            "Train Epoch: 9 [6400/60000 (11%)]\tLoss: 0.001027\n",
            "Train Epoch: 9 [7680/60000 (13%)]\tLoss: 0.001072\n",
            "Train Epoch: 9 [8960/60000 (15%)]\tLoss: 0.001079\n",
            "Train Epoch: 9 [10240/60000 (17%)]\tLoss: 0.001068\n",
            "Train Epoch: 9 [11520/60000 (19%)]\tLoss: 0.001023\n",
            "Train Epoch: 9 [12800/60000 (21%)]\tLoss: 0.001057\n",
            "Train Epoch: 9 [14080/60000 (23%)]\tLoss: 0.001067\n",
            "Train Epoch: 9 [15360/60000 (26%)]\tLoss: 0.001044\n",
            "Train Epoch: 9 [16640/60000 (28%)]\tLoss: 0.001020\n",
            "Train Epoch: 9 [17920/60000 (30%)]\tLoss: 0.001041\n",
            "Train Epoch: 9 [19200/60000 (32%)]\tLoss: 0.001065\n",
            "Train Epoch: 9 [20480/60000 (34%)]\tLoss: 0.001050\n",
            "Train Epoch: 9 [21760/60000 (36%)]\tLoss: 0.000991\n",
            "Train Epoch: 9 [23040/60000 (38%)]\tLoss: 0.001053\n",
            "Train Epoch: 9 [24320/60000 (41%)]\tLoss: 0.001058\n",
            "Train Epoch: 9 [25600/60000 (43%)]\tLoss: 0.001072\n",
            "Train Epoch: 9 [26880/60000 (45%)]\tLoss: 0.001002\n",
            "Train Epoch: 9 [28160/60000 (47%)]\tLoss: 0.001075\n",
            "Train Epoch: 9 [29440/60000 (49%)]\tLoss: 0.001058\n",
            "Train Epoch: 9 [30720/60000 (51%)]\tLoss: 0.001063\n",
            "Train Epoch: 9 [32000/60000 (53%)]\tLoss: 0.001042\n",
            "Train Epoch: 9 [33280/60000 (55%)]\tLoss: 0.001064\n",
            "Train Epoch: 9 [34560/60000 (58%)]\tLoss: 0.001054\n",
            "Train Epoch: 9 [35840/60000 (60%)]\tLoss: 0.001062\n",
            "Train Epoch: 9 [37120/60000 (62%)]\tLoss: 0.001055\n",
            "Train Epoch: 9 [38400/60000 (64%)]\tLoss: 0.001064\n",
            "Train Epoch: 9 [39680/60000 (66%)]\tLoss: 0.001042\n",
            "Train Epoch: 9 [40960/60000 (68%)]\tLoss: 0.001088\n",
            "Train Epoch: 9 [42240/60000 (70%)]\tLoss: 0.001095\n",
            "Train Epoch: 9 [43520/60000 (72%)]\tLoss: 0.001057\n",
            "Train Epoch: 9 [44800/60000 (75%)]\tLoss: 0.001080\n",
            "Train Epoch: 9 [46080/60000 (77%)]\tLoss: 0.001048\n",
            "Train Epoch: 9 [47360/60000 (79%)]\tLoss: 0.001050\n",
            "Train Epoch: 9 [48640/60000 (81%)]\tLoss: 0.001003\n",
            "Train Epoch: 9 [49920/60000 (83%)]\tLoss: 0.001060\n",
            "Train Epoch: 9 [51200/60000 (85%)]\tLoss: 0.001084\n",
            "Train Epoch: 9 [52480/60000 (87%)]\tLoss: 0.001048\n",
            "Train Epoch: 9 [53760/60000 (90%)]\tLoss: 0.001084\n",
            "Train Epoch: 9 [55040/60000 (92%)]\tLoss: 0.001053\n",
            "Train Epoch: 9 [56320/60000 (94%)]\tLoss: 0.001058\n",
            "Train Epoch: 9 [57600/60000 (96%)]\tLoss: 0.001045\n",
            "Train Epoch: 9 [58880/60000 (98%)]\tLoss: 0.001030\n",
            "====> Epoch: 9 Average loss: 0.0011\n",
            "====> Test set loss: 0.0010\n",
            "Train Epoch: 10 [0/60000 (0%)]\tLoss: 0.001045\n",
            "Train Epoch: 10 [1280/60000 (2%)]\tLoss: 0.001051\n",
            "Train Epoch: 10 [2560/60000 (4%)]\tLoss: 0.001077\n",
            "Train Epoch: 10 [3840/60000 (6%)]\tLoss: 0.001061\n",
            "Train Epoch: 10 [5120/60000 (9%)]\tLoss: 0.001030\n",
            "Train Epoch: 10 [6400/60000 (11%)]\tLoss: 0.001051\n",
            "Train Epoch: 10 [7680/60000 (13%)]\tLoss: 0.001057\n",
            "Train Epoch: 10 [8960/60000 (15%)]\tLoss: 0.001070\n",
            "Train Epoch: 10 [10240/60000 (17%)]\tLoss: 0.001054\n",
            "Train Epoch: 10 [11520/60000 (19%)]\tLoss: 0.001049\n",
            "Train Epoch: 10 [12800/60000 (21%)]\tLoss: 0.001058\n",
            "Train Epoch: 10 [14080/60000 (23%)]\tLoss: 0.001066\n",
            "Train Epoch: 10 [15360/60000 (26%)]\tLoss: 0.001063\n",
            "Train Epoch: 10 [16640/60000 (28%)]\tLoss: 0.001062\n",
            "Train Epoch: 10 [17920/60000 (30%)]\tLoss: 0.000990\n",
            "Train Epoch: 10 [19200/60000 (32%)]\tLoss: 0.001037\n",
            "Train Epoch: 10 [20480/60000 (34%)]\tLoss: 0.001031\n",
            "Train Epoch: 10 [21760/60000 (36%)]\tLoss: 0.001051\n",
            "Train Epoch: 10 [23040/60000 (38%)]\tLoss: 0.001055\n",
            "Train Epoch: 10 [24320/60000 (41%)]\tLoss: 0.001051\n",
            "Train Epoch: 10 [25600/60000 (43%)]\tLoss: 0.001017\n",
            "Train Epoch: 10 [26880/60000 (45%)]\tLoss: 0.001070\n",
            "Train Epoch: 10 [28160/60000 (47%)]\tLoss: 0.001017\n",
            "Train Epoch: 10 [29440/60000 (49%)]\tLoss: 0.001048\n",
            "Train Epoch: 10 [30720/60000 (51%)]\tLoss: 0.001037\n",
            "Train Epoch: 10 [32000/60000 (53%)]\tLoss: 0.000988\n",
            "Train Epoch: 10 [33280/60000 (55%)]\tLoss: 0.001027\n",
            "Train Epoch: 10 [34560/60000 (58%)]\tLoss: 0.001064\n",
            "Train Epoch: 10 [35840/60000 (60%)]\tLoss: 0.001060\n",
            "Train Epoch: 10 [37120/60000 (62%)]\tLoss: 0.001011\n",
            "Train Epoch: 10 [38400/60000 (64%)]\tLoss: 0.001042\n",
            "Train Epoch: 10 [39680/60000 (66%)]\tLoss: 0.001035\n",
            "Train Epoch: 10 [40960/60000 (68%)]\tLoss: 0.001030\n",
            "Train Epoch: 10 [42240/60000 (70%)]\tLoss: 0.001033\n",
            "Train Epoch: 10 [43520/60000 (72%)]\tLoss: 0.001090\n",
            "Train Epoch: 10 [44800/60000 (75%)]\tLoss: 0.001048\n",
            "Train Epoch: 10 [46080/60000 (77%)]\tLoss: 0.001079\n",
            "Train Epoch: 10 [47360/60000 (79%)]\tLoss: 0.001036\n",
            "Train Epoch: 10 [48640/60000 (81%)]\tLoss: 0.001062\n",
            "Train Epoch: 10 [49920/60000 (83%)]\tLoss: 0.001064\n",
            "Train Epoch: 10 [51200/60000 (85%)]\tLoss: 0.001053\n",
            "Train Epoch: 10 [52480/60000 (87%)]\tLoss: 0.001040\n",
            "Train Epoch: 10 [53760/60000 (90%)]\tLoss: 0.001066\n",
            "Train Epoch: 10 [55040/60000 (92%)]\tLoss: 0.001056\n",
            "Train Epoch: 10 [56320/60000 (94%)]\tLoss: 0.001052\n",
            "Train Epoch: 10 [57600/60000 (96%)]\tLoss: 0.001072\n",
            "Train Epoch: 10 [58880/60000 (98%)]\tLoss: 0.001019\n",
            "====> Epoch: 10 Average loss: 0.0011\n",
            "====> Test set loss: 0.0010\n"
          ],
          "name": "stdout"
        }
      ]
    }
  ]
}